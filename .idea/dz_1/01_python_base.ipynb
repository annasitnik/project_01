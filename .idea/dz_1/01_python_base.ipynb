{
  "nbformat": 4,
  "nbformat_minor": 0,
  "metadata": {
    "colab": {
      "provenance": []
    },
    "kernelspec": {
      "name": "python3",
      "display_name": "Python 3"
    },
    "language_info": {
      "name": "python"
    }
  },
  "cells": [
    {
      "cell_type": "markdown",
      "source": [
        "# Python. Основы 1.\n",
        "\n",
        "* ВЫПОЛНЕНО - язык разметки Markdown\n",
        "* ВЫПОЛНЕНО - целые и вещестенные числа\n",
        "* ВЫПОЛНЕНО - переменные\n",
        "* ВЫПОЛНЕНО - индексация строк\n",
        "* TODO - отличия списков и кортежей\n",
        "\n"
      ],
      "metadata": {
        "id": "GvZa32kWq_Wt"
      }
    },
    {
      "cell_type": "markdown",
      "source": [
        "## Про язык разметки Markdown\n",
        "    ## Header 2\n",
        "    ### Header 3\n",
        "    **Bold** - жирный шрифт"
      ],
      "metadata": {
        "id": "gMkauq4yupEH"
      }
    },
    {
      "cell_type": "markdown",
      "source": [
        "## Про Python\n",
        "### Типы данных\n",
        "* int - целые числа (1, 100, -200)\n",
        "* Float - вещественные числа (1.0, 13.68, -200.1001, 0.0)\n",
        "* bool - логический тип данных (true, false)\n",
        "* str -  строки, текст (\"Пивет\", \"как дела?\")\n",
        "\n",
        "### Функции\n",
        "* print() - вывод на экран\n",
        "* type() - возвращает тип данных указанного объекта\n",
        "* int() - приведение у типу данных int\n",
        "* float() - приведение к типу данных float\n",
        "* round (numb, n) - округление до указанного знака после запятой <br>\n",
        "(если n нет, то до целого числа)\n",
        "* len() - длина строки или списка\n",
        "* dir() - список методов для указанного типа данных\n",
        "\n",
        "### Методы - функции которые рботают для конеретного типа данных\n",
        "если функция - print(1+1), type(\"n\")\n",
        "то метод - greting.find(\"n\")\n",
        "\n",
        "\n"
      ],
      "metadata": {
        "id": "tW3qSTnm0kuh"
      }
    },
    {
      "cell_type": "markdown",
      "source": [
        "## Целые и вещественные числа"
      ],
      "metadata": {
        "id": "i5SnjG8owOEs"
      }
    },
    {
      "cell_type": "code",
      "execution_count": null,
      "metadata": {
        "id": "ql8ypD26ljkk",
        "colab": {
          "base_uri": "https://localhost:8080/"
        },
        "outputId": "fba58aa1-a50e-4b0b-e76f-4707d4c9e269"
      },
      "outputs": [
        {
          "output_type": "execute_result",
          "data": {
            "text/plain": [
              "4"
            ]
          },
          "metadata": {},
          "execution_count": 9
        }
      ],
      "source": [
        "# Комментарий Ctrl + /\n",
        "# Арифметические операции\n",
        "# сложение\n",
        "2 + 2\n",
        "\n"
      ]
    },
    {
      "cell_type": "code",
      "source": [
        "# вычитание\n",
        "10 - 2"
      ],
      "metadata": {
        "colab": {
          "base_uri": "https://localhost:8080/"
        },
        "id": "t87-7m2kzjwe",
        "outputId": "d03d8cde-0bea-4119-e8ec-3ebc6ebd72ac"
      },
      "execution_count": null,
      "outputs": [
        {
          "output_type": "execute_result",
          "data": {
            "text/plain": [
              "8"
            ]
          },
          "metadata": {},
          "execution_count": 10
        }
      ]
    },
    {
      "cell_type": "code",
      "source": [
        "# Умножние\n",
        "2 * 2\n"
      ],
      "metadata": {
        "colab": {
          "base_uri": "https://localhost:8080/"
        },
        "id": "8iXhHdgzz15w",
        "outputId": "1ea3c2cb-db1a-40b1-a3a8-b3bf0ae1f5cd"
      },
      "execution_count": null,
      "outputs": [
        {
          "output_type": "execute_result",
          "data": {
            "text/plain": [
              "4"
            ]
          },
          "metadata": {},
          "execution_count": 11
        }
      ]
    },
    {
      "cell_type": "code",
      "source": [
        "# Деление (обычное)\n",
        "print(2 / 2, type(2 / 2 ))\n",
        "\n",
        "# Целочисленное деление\n",
        "print(2 // 2)\n",
        "\n",
        "# Остаток от деления (как делить столбиком)\n",
        "print (2 % 2)\n",
        "print(10 % 3)\n",
        "\n",
        "\n",
        "\n"
      ],
      "metadata": {
        "colab": {
          "base_uri": "https://localhost:8080/"
        },
        "id": "0kAyE7zGz-iw",
        "outputId": "60a226d6-62bd-4615-b8cd-b18ebb81d5f8"
      },
      "execution_count": null,
      "outputs": [
        {
          "output_type": "stream",
          "name": "stdout",
          "text": [
            "1.0 <class 'float'>\n",
            "1\n",
            "0\n",
            "1\n"
          ]
        }
      ]
    },
    {
      "cell_type": "code",
      "source": [
        "# Степень\n",
        "2 ** 4"
      ],
      "metadata": {
        "colab": {
          "base_uri": "https://localhost:8080/"
        },
        "id": "erzJ1tBpqUyk",
        "outputId": "89dd8be1-d840-4522-cd24-163134fc2ac5"
      },
      "execution_count": null,
      "outputs": [
        {
          "output_type": "execute_result",
          "data": {
            "text/plain": [
              "16"
            ]
          },
          "metadata": {},
          "execution_count": 3
        }
      ]
    },
    {
      "cell_type": "code",
      "source": [
        "# Вопрос 1\n",
        "\n",
        "print (30.0//3)\n",
        "\n",
        "# Нужны ли пробелы?\n",
        "\n",
        "# Почему float?\n",
        "# если в вычкслении участвует float, то результат float\n",
        "\n",
        "print(33.145 + 10)\n",
        "print(33.145 / 10)\n",
        "print(33.145 / 13)\n",
        "print(33.145 // 13) # деление нацело работает, но тип данных float\n"
      ],
      "metadata": {
        "colab": {
          "base_uri": "https://localhost:8080/"
        },
        "id": "L6tsbCZk6pZ5",
        "outputId": "2aac54be-bc0a-4532-b29d-43c43b909ac3"
      },
      "execution_count": null,
      "outputs": [
        {
          "output_type": "stream",
          "name": "stdout",
          "text": [
            "10.0\n",
            "43.145\n",
            "3.3145000000000002\n",
            "2.549615384615385\n",
            "2.0\n"
          ]
        }
      ]
    },
    {
      "cell_type": "code",
      "source": [
        "# Вопрос 2\n",
        "# Операции сравнения (<, >, ==, <=, >=, !=)\n",
        "\n",
        "print(0.1 + 0.2 == 0.3)\n",
        "print(1 + 2 == 3)\n",
        "print(0.1 + 0.2 )\n",
        "\n",
        "# Почему 0.30000000000000004?\n",
        "# потому что у float  существует потеря точности\n",
        "\n"
      ],
      "metadata": {
        "colab": {
          "base_uri": "https://localhost:8080/"
        },
        "id": "ys1C7pqICtxY",
        "outputId": "0869d1af-8843-4528-d9fd-50aaaa7c69c0"
      },
      "execution_count": null,
      "outputs": [
        {
          "output_type": "stream",
          "name": "stdout",
          "text": [
            "False\n",
            "True\n",
            "0.30000000000000004\n"
          ]
        }
      ]
    },
    {
      "cell_type": "code",
      "source": [
        "# Вопрос 3\n",
        "# приведение к другому типу данных\n",
        "print(int(21) + float(21) * 0)\n",
        "print(int(21))\n",
        "print(float(21))\n",
        "print(float(21) * 0)\n"
      ],
      "metadata": {
        "colab": {
          "base_uri": "https://localhost:8080/"
        },
        "id": "oIa19lcfFrqh",
        "outputId": "bfa9e2a7-5f76-43f3-c1b9-86f302faf5aa"
      },
      "execution_count": null,
      "outputs": [
        {
          "output_type": "stream",
          "name": "stdout",
          "text": [
            "21.0\n",
            "21\n",
            "21.0\n",
            "0.0\n"
          ]
        }
      ]
    },
    {
      "cell_type": "code",
      "source": [
        "# Вопрос 4\n",
        "# округление\n",
        "print(round(12.5) - round(11.5))\n",
        "print(round(12.5)) # 12 < 12.5 < 14 (ближе к 12)\n",
        "print(round(11.5))\n",
        "\n",
        "# примечание- смотрите на результат работы той или иной функции или операции"
      ],
      "metadata": {
        "colab": {
          "base_uri": "https://localhost:8080/"
        },
        "id": "AoAafPbEI0vZ",
        "outputId": "1fea0b82-3ad8-4c30-fb6d-4e9d2be57473"
      },
      "execution_count": null,
      "outputs": [
        {
          "output_type": "stream",
          "name": "stdout",
          "text": [
            "0\n",
            "12\n",
            "12\n"
          ]
        }
      ]
    },
    {
      "cell_type": "code",
      "source": [
        "# доп вопрос\n",
        "# чему будет равно ~~~~~~5?\n",
        "print(2 - 10 * -2)\n"
      ],
      "metadata": {
        "colab": {
          "base_uri": "https://localhost:8080/"
        },
        "id": "jtVwUb5HpRO0",
        "outputId": "b1ad036a-bf69-4921-fc9b-0cce468d2761"
      },
      "execution_count": null,
      "outputs": [
        {
          "output_type": "stream",
          "name": "stdout",
          "text": [
            "22\n"
          ]
        }
      ]
    },
    {
      "cell_type": "markdown",
      "source": [
        "### Переменные\n",
        "ярлыки для сохранения результата операции\n",
        "\n",
        "```\n",
        "\n",
        "```\n",
        "\n"
      ],
      "metadata": {
        "id": "JIqaWrVcsbG1"
      }
    },
    {
      "cell_type": "code",
      "source": [
        "# (20 + 10) ** 2 * 5\n",
        "\n",
        "# присвоение переменной для результата операции\n",
        "result = (20 + 10) ** 2 * 5\n",
        "result\n"
      ],
      "metadata": {
        "colab": {
          "base_uri": "https://localhost:8080/"
        },
        "id": "53Syq-eTtiV8",
        "outputId": "632e522d-e17a-4a3e-bce2-8cc6e5a5190c"
      },
      "execution_count": null,
      "outputs": [
        {
          "output_type": "execute_result",
          "data": {
            "text/plain": [
              "4500"
            ]
          },
          "metadata": {},
          "execution_count": 4
        }
      ]
    },
    {
      "cell_type": "markdown",
      "source": [
        "#### Правила имен переменных\n",
        "Имя переменной должно начинаться с буквы или знака подчеркивания '_';\n",
        "2. Имя переменной не может начинаться с цифры;\n",
        "3. Имя переменной может содержать в себе только буквы, числа от 0 до 9 и знак\n",
        "подчеркивания;\n",
        "4. Имя переменных чувствительны к регистру («Age», «age», «AGE» — разные\n",
        "переменные).\n"
      ],
      "metadata": {
        "id": "-dfvKVZcvC70"
      }
    },
    {
      "cell_type": "markdown",
      "source": [
        "#### желательно для названия переменных\n",
        "1. Записано маленькими латинскими буквами\n",
        "2. Разделено нижним подчеркиванием “_”, если в названии переменной\n",
        "несколько слов\n",
        "3. Отображать, какой объект за переменной находиться (иметь\n",
        "семантическую связь)\n"
      ],
      "metadata": {
        "id": "3GAyu2Pbwosn"
      }
    },
    {
      "cell_type": "markdown",
      "source": [
        "# примеры имен переменных\n",
        "x = 1\n",
        "number = 100\n",
        "age_in_years = 20\n",
        "_x = 2\n",
        "\n",
        "# нельзя начинать с цифры\n",
        "\n",
        "# семантическая связь\n",
        "\n",
        "# множественное присвоение\n",
        "# x = 19\n",
        "# y = 72\n",
        "# z = 106\n",
        "\n",
        "# x, y, z = 19, 72, 106\n",
        "\n",
        "\n",
        "\n",
        "\n"
      ],
      "metadata": {
        "id": "FLiju84avkYf"
      }
    },
    {
      "cell_type": "code",
      "source": [
        "x = 19\n",
        "y = 72\n",
        "z = 106\n",
        "print(x,y,z)\n"
      ],
      "metadata": {
        "colab": {
          "base_uri": "https://localhost:8080/"
        },
        "id": "sAPRLE_4zxz1",
        "outputId": "406c7a47-b3f3-4a94-ed59-a3178f9aa12f"
      },
      "execution_count": null,
      "outputs": [
        {
          "output_type": "stream",
          "name": "stdout",
          "text": [
            "19 72 106\n"
          ]
        }
      ]
    },
    {
      "cell_type": "code",
      "source": [
        "x, y, z = 19, 72, 106\n",
        "print(x,y,z)\n",
        "\n",
        "# можно использовать разные типы даных\n",
        "\n",
        "fvar, svar, tvar = 10, frue, -14.102\n",
        "\n",
        "\n"
      ],
      "metadata": {
        "colab": {
          "base_uri": "https://localhost:8080/",
          "height": 235
        },
        "id": "IJ1okOZX00xz",
        "outputId": "11a771e9-3c68-4ccd-97e0-277fabedb3f4"
      },
      "execution_count": null,
      "outputs": [
        {
          "output_type": "stream",
          "name": "stdout",
          "text": [
            "19 72 106\n"
          ]
        },
        {
          "output_type": "error",
          "ename": "NameError",
          "evalue": "ignored",
          "traceback": [
            "\u001b[0;31m---------------------------------------------------------------------------\u001b[0m",
            "\u001b[0;31mNameError\u001b[0m                                 Traceback (most recent call last)",
            "\u001b[0;32m<ipython-input-4-786831e826cd>\u001b[0m in \u001b[0;36m<cell line: 6>\u001b[0;34m()\u001b[0m\n\u001b[1;32m      4\u001b[0m \u001b[0;31m# можно использовать разные типы даных\u001b[0m\u001b[0;34m\u001b[0m\u001b[0;34m\u001b[0m\u001b[0m\n\u001b[1;32m      5\u001b[0m \u001b[0;34m\u001b[0m\u001b[0m\n\u001b[0;32m----> 6\u001b[0;31m \u001b[0mfvar\u001b[0m\u001b[0;34m,\u001b[0m \u001b[0msvar\u001b[0m\u001b[0;34m,\u001b[0m \u001b[0mtvar\u001b[0m \u001b[0;34m=\u001b[0m \u001b[0;36m10\u001b[0m\u001b[0;34m,\u001b[0m \u001b[0mfrue\u001b[0m\u001b[0;34m,\u001b[0m \u001b[0;34m-\u001b[0m\u001b[0;36m14.102\u001b[0m\u001b[0;34m\u001b[0m\u001b[0;34m\u001b[0m\u001b[0m\n\u001b[0m\u001b[1;32m      7\u001b[0m \u001b[0;34m\u001b[0m\u001b[0m\n",
            "\u001b[0;31mNameError\u001b[0m: name 'frue' is not defined"
          ]
        }
      ]
    },
    {
      "cell_type": "code",
      "source": [
        "# кстати\n",
        "flag = 2 > 2\n",
        "type(flag)\n"
      ],
      "metadata": {
        "colab": {
          "base_uri": "https://localhost:8080/"
        },
        "id": "PFaCyyihHXyT",
        "outputId": "d67d972a-79a8-4c3a-9045-711caa28f56f"
      },
      "execution_count": null,
      "outputs": [
        {
          "output_type": "execute_result",
          "data": {
            "text/plain": [
              "bool"
            ]
          },
          "metadata": {},
          "execution_count": 5
        }
      ]
    },
    {
      "cell_type": "code",
      "source": [
        "# двойственное присвоение имени к объекту\n",
        "x = y= 100\n",
        "печатай = print\n",
        "печатай(x ** y // z)\n",
        "print(x)"
      ],
      "metadata": {
        "colab": {
          "base_uri": "https://localhost:8080/"
        },
        "id": "HRziUU_aH6E5",
        "outputId": "81b5de46-e6b5-4b67-c0be-ae87ae25e3cb"
      },
      "execution_count": null,
      "outputs": [
        {
          "output_type": "stream",
          "name": "stdout",
          "text": [
            "943396226415094339622641509433962264150943396226415094339622641509433962264150943396226415094339622641509433962264150943396226415094339622641509433962264150943396226415094339622641509433962264150943\n",
            "100\n"
          ]
        }
      ]
    },
    {
      "cell_type": "markdown",
      "source": [
        "### Интексация строк"
      ],
      "metadata": {
        "id": "E4Mb3gOELL50"
      }
    },
    {
      "cell_type": "code",
      "source": [
        "# строка str\n",
        "\n",
        "greeting = \"hello\"\n",
        "greeting"
      ],
      "metadata": {
        "colab": {
          "base_uri": "https://localhost:8080/",
          "height": 36
        },
        "id": "MwTJiSptLJzt",
        "outputId": "6e9bd958-60b9-4930-c1c3-fb6b602c093f"
      },
      "execution_count": null,
      "outputs": [
        {
          "output_type": "execute_result",
          "data": {
            "text/plain": [
              "'hello'"
            ],
            "application/vnd.google.colaboratory.intrinsic+json": {
              "type": "string"
            }
          },
          "metadata": {},
          "execution_count": 8
        }
      ]
    },
    {
      "cell_type": "code",
      "source": [
        "# интексация\n",
        "greeting = \"hello world!\"\n",
        "\n",
        "#                    -3 -2 -1\n",
        "# h e l l o  w o r l d !\n",
        "# 0 1 2 3 4 5 6 7 8 9 10 11\n",
        "\n",
        "greeting [6]\n",
        "greeting [-1]\n",
        "greeting [6:11]\n",
        "greeting [0:5]\n",
        "greeting [:5]\n",
        "greeting [6:11] + greeting [:5]\n",
        "greeting [6:11:2]\n",
        "greeting [::2]\n",
        "greeting [::-1]\n",
        "invert_str = greeting [::-1]\n",
        "invert_str\n",
        "\n",
        "greeting[: greeting.find(\"l\")]\n",
        "greeting[: greeting.rfind(\"l\")]\n",
        "greeting[: len(greeting)]\n",
        "\n"
      ],
      "metadata": {
        "colab": {
          "base_uri": "https://localhost:8080/",
          "height": 36
        },
        "id": "rRwYWnx8Q-2s",
        "outputId": "c468823f-84a1-41fa-9660-79700f520270"
      },
      "execution_count": 6,
      "outputs": [
        {
          "output_type": "execute_result",
          "data": {
            "text/plain": [
              "'hello world!'"
            ],
            "application/vnd.google.colaboratory.intrinsic+json": {
              "type": "string"
            }
          },
          "metadata": {},
          "execution_count": 6
        }
      ]
    },
    {
      "cell_type": "code",
      "source": [
        "# как индекс стороки?\n",
        "# с помощью методов\n",
        "\n",
        "greeting.find(\"н\")\n",
        "\n",
        "# number.find(\"н\") - этот метод для числа нет\n",
        "\n",
        "greeting[: greeting.find(\"l\")]"
      ],
      "metadata": {
        "colab": {
          "base_uri": "https://localhost:8080/",
          "height": 235
        },
        "id": "O7LbC3nA_z7y",
        "outputId": "09dd6077-42e2-480a-ca1e-1c88d47567ae"
      },
      "execution_count": 3,
      "outputs": [
        {
          "output_type": "error",
          "ename": "NameError",
          "evalue": "ignored",
          "traceback": [
            "\u001b[0;31m---------------------------------------------------------------------------\u001b[0m",
            "\u001b[0;31mNameError\u001b[0m                                 Traceback (most recent call last)",
            "\u001b[0;32m<ipython-input-3-99b423790fd4>\u001b[0m in \u001b[0;36m<cell line: 4>\u001b[0;34m()\u001b[0m\n\u001b[1;32m      2\u001b[0m \u001b[0;31m# с помощью методов\u001b[0m\u001b[0;34m\u001b[0m\u001b[0;34m\u001b[0m\u001b[0m\n\u001b[1;32m      3\u001b[0m \u001b[0;34m\u001b[0m\u001b[0m\n\u001b[0;32m----> 4\u001b[0;31m \u001b[0mgreeting\u001b[0m\u001b[0;34m.\u001b[0m\u001b[0mfind\u001b[0m\u001b[0;34m(\u001b[0m\u001b[0;34m\"н\"\u001b[0m\u001b[0;34m)\u001b[0m\u001b[0;34m\u001b[0m\u001b[0;34m\u001b[0m\u001b[0m\n\u001b[0m\u001b[1;32m      5\u001b[0m \u001b[0;34m\u001b[0m\u001b[0m\n\u001b[1;32m      6\u001b[0m \u001b[0;31m# number.find(\"н\") - этот метод для числа нет\u001b[0m\u001b[0;34m\u001b[0m\u001b[0;34m\u001b[0m\u001b[0m\n",
            "\u001b[0;31mNameError\u001b[0m: name 'greeting' is not defined"
          ]
        }
      ]
    },
    {
      "cell_type": "code",
      "source": [
        "# список методов для типа данных\n",
        "dir(greeting)"
      ],
      "metadata": {
        "colab": {
          "base_uri": "https://localhost:8080/"
        },
        "id": "LPF7xjsRC5OJ",
        "outputId": "17eac391-7bc1-4bad-e38e-79d2dfb335da"
      },
      "execution_count": 7,
      "outputs": [
        {
          "output_type": "execute_result",
          "data": {
            "text/plain": [
              "['__add__',\n",
              " '__class__',\n",
              " '__contains__',\n",
              " '__delattr__',\n",
              " '__dir__',\n",
              " '__doc__',\n",
              " '__eq__',\n",
              " '__format__',\n",
              " '__ge__',\n",
              " '__getattribute__',\n",
              " '__getitem__',\n",
              " '__getnewargs__',\n",
              " '__gt__',\n",
              " '__hash__',\n",
              " '__init__',\n",
              " '__init_subclass__',\n",
              " '__iter__',\n",
              " '__le__',\n",
              " '__len__',\n",
              " '__lt__',\n",
              " '__mod__',\n",
              " '__mul__',\n",
              " '__ne__',\n",
              " '__new__',\n",
              " '__reduce__',\n",
              " '__reduce_ex__',\n",
              " '__repr__',\n",
              " '__rmod__',\n",
              " '__rmul__',\n",
              " '__setattr__',\n",
              " '__sizeof__',\n",
              " '__str__',\n",
              " '__subclasshook__',\n",
              " 'capitalize',\n",
              " 'casefold',\n",
              " 'center',\n",
              " 'count',\n",
              " 'encode',\n",
              " 'endswith',\n",
              " 'expandtabs',\n",
              " 'find',\n",
              " 'format',\n",
              " 'format_map',\n",
              " 'index',\n",
              " 'isalnum',\n",
              " 'isalpha',\n",
              " 'isascii',\n",
              " 'isdecimal',\n",
              " 'isdigit',\n",
              " 'isidentifier',\n",
              " 'islower',\n",
              " 'isnumeric',\n",
              " 'isprintable',\n",
              " 'isspace',\n",
              " 'istitle',\n",
              " 'isupper',\n",
              " 'join',\n",
              " 'ljust',\n",
              " 'lower',\n",
              " 'lstrip',\n",
              " 'maketrans',\n",
              " 'partition',\n",
              " 'removeprefix',\n",
              " 'removesuffix',\n",
              " 'replace',\n",
              " 'rfind',\n",
              " 'rindex',\n",
              " 'rjust',\n",
              " 'rpartition',\n",
              " 'rsplit',\n",
              " 'rstrip',\n",
              " 'split',\n",
              " 'splitlines',\n",
              " 'startswith',\n",
              " 'strip',\n",
              " 'swapcase',\n",
              " 'title',\n",
              " 'translate',\n",
              " 'upper',\n",
              " 'zfill']"
            ]
          },
          "metadata": {},
          "execution_count": 7
        }
      ]
    },
    {
      "cell_type": "code",
      "source": [
        "greeting.upper()"
      ],
      "metadata": {
        "colab": {
          "base_uri": "https://localhost:8080/",
          "height": 36
        },
        "id": "OFHRkmpgDV3U",
        "outputId": "c06ddd45-96e1-4aad-9e8e-a13af7eb1344"
      },
      "execution_count": 8,
      "outputs": [
        {
          "output_type": "execute_result",
          "data": {
            "text/plain": [
              "'HELLO WORLD!'"
            ],
            "application/vnd.google.colaboratory.intrinsic+json": {
              "type": "string"
            }
          },
          "metadata": {},
          "execution_count": 8
        }
      ]
    }
  ]
}